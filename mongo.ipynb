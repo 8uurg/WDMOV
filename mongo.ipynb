{
 "cells": [
  {
   "cell_type": "code",
   "execution_count": 13,
   "metadata": {
    "collapsed": true
   },
   "outputs": [],
   "source": [
    "from pymongo import MongoClient\n",
    "\n",
    "client = MongoClient(\"localhost\", 27017)\n",
    "db = client.WDMOV"
   ]
  },
  {
   "cell_type": "code",
   "execution_count": 13,
   "metadata": {},
   "outputs": [],
   "source": [
    ""
   ]
  },
  {
   "cell_type": "code",
   "execution_count": 13,
   "metadata": {},
   "outputs": [],
   "source": [
    ""
   ]
  },
  {
   "cell_type": "code",
   "execution_count": 13,
   "metadata": {},
   "outputs": [],
   "source": [
    ""
   ]
  },
  {
   "cell_type": "code",
   "execution_count": 13,
   "metadata": {},
   "outputs": [],
   "source": [
    ""
   ]
  },
  {
   "cell_type": "code",
   "execution_count": 13,
   "metadata": {},
   "outputs": [],
   "source": [
    ""
   ]
  },
  {
   "cell_type": "code",
   "execution_count": 13,
   "metadata": {},
   "outputs": [],
   "source": [
    "\n"
   ]
  },
  {
   "cell_type": "code",
   "execution_count": 69,
   "metadata": {},
   "outputs": [
    {
     "name": "stdout",
     "output_type": "stream",
     "text": [
      "{'_id': ObjectId('5b04239f3e6aaaac0566d0bd'), 'stop_id': '1100224', 'stop_code': nan, 'stop_name': 'Barendrecht, Middeldijkerplein', 'stop_lat': 51.848743, 'stop_lon': 4.496754, 'location_type': 0, 'parent_station': nan, 'stop_timezone': nan, 'wheelchair_boarding': 1.0, 'platform_code': nan}\n"
     ]
    }
   ],
   "source": [
    "print(db.stops.find_one({'stop_name': \"Barendrecht, Middeldijkerplein\"}))"
   ]
  },
  {
   "cell_type": "code",
   "execution_count": 80,
   "metadata": {},
   "outputs": [
    {
     "name": "stdout",
     "output_type": "stream",
     "text": [
      "{'_id': ObjectId('5b04538d3e6aaab3e7e8f53e'), 'stop_id': '1099928', 'stop_code': nan, 'stop_name': 'Delft, TU Mekelpark', 'stop_lat': 51.999201, 'stop_lon': 4.373961, 'location_type': 0, 'parent_station': nan, 'stop_timezone': nan, 'wheelchair_boarding': 1.0, 'platform_code': nan}\n{'_id': ObjectId('5b04538d3e6aaab3e7e8f541'), 'stop_id': '1099931', 'stop_code': nan, 'stop_name': 'Delft, TU Mekelpark', 'stop_lat': 51.999676, 'stop_lon': 4.373805, 'location_type': 0, 'parent_station': nan, 'stop_timezone': nan, 'wheelchair_boarding': 1.0, 'platform_code': nan}\n{'_id': ObjectId('5b04538d3e6aaab3e7e8fda5'), 'stop_id': '1216986', 'stop_code': nan, 'stop_name': 'Delft, TU - Mekelpark', 'stop_lat': 51.999666999999995, 'stop_lon': 4.373819999999999, 'location_type': 0, 'parent_station': nan, 'stop_timezone': nan, 'wheelchair_boarding': 1.0, 'platform_code': nan}\n{'_id': ObjectId('5b04538d3e6aaab3e7e8ff58'), 'stop_id': '1217481', 'stop_code': nan, 'stop_name': 'Delft, TU - Mekelpark', 'stop_lat': 51.999256, 'stop_lon': 4.374105999999999, 'location_type': 0, 'parent_station': nan, 'stop_timezone': nan, 'wheelchair_boarding': 1.0, 'platform_code': nan}\n"
     ]
    }
   ],
   "source": [
    "mekelpark_stops = db.stops.find({'stop_name': {\"$regex\":\".*Mekelpark.*\" }}) \n",
    "for stop in mekelpark_stops:\n",
    "    print(stop)"
   ]
  },
  {
   "cell_type": "code",
   "execution_count": 12,
   "metadata": {},
   "outputs": [
    {
     "name": "stdout",
     "output_type": "stream",
     "text": [
      "{'_id': ObjectId('5b0459e63e6aaab6f51ecaa1'), 'stop_id': '1217481', 'stop_code': nan, 'stop_name': 'Delft, TU - Mekelpark', 'stop_lat': 51.999256, 'stop_lon': 4.374105999999999, 'location_type': 0, 'parent_station': nan, 'stop_timezone': nan, 'wheelchair_boarding': 1.0, 'platform_code': nan, 'loc': {'type': 'Point', 'coordinates': [4.374105999999999, 51.999256]}}\n{'_id': ObjectId('5b0459e63e6aaab6f51ec087'), 'stop_id': '1099928', 'stop_code': nan, 'stop_name': 'Delft, TU Mekelpark', 'stop_lat': 51.999201, 'stop_lon': 4.373961, 'location_type': 0, 'parent_station': nan, 'stop_timezone': nan, 'wheelchair_boarding': 1.0, 'platform_code': nan, 'loc': {'type': 'Point', 'coordinates': [4.373961, 51.999201]}}\n{'_id': ObjectId('5b0459e63e6aaab6f51ec8ee'), 'stop_id': '1216986', 'stop_code': nan, 'stop_name': 'Delft, TU - Mekelpark', 'stop_lat': 51.999666999999995, 'stop_lon': 4.373819999999999, 'location_type': 0, 'parent_station': nan, 'stop_timezone': nan, 'wheelchair_boarding': 1.0, 'platform_code': nan, 'loc': {'type': 'Point', 'coordinates': [4.373819999999999, 51.999666999999995]}}\n{'_id': ObjectId('5b0459e63e6aaab6f51ec08a'), 'stop_id': '1099931', 'stop_code': nan, 'stop_name': 'Delft, TU Mekelpark', 'stop_lat': 51.999676, 'stop_lon': 4.373805, 'location_type': 0, 'parent_station': nan, 'stop_timezone': nan, 'wheelchair_boarding': 1.0, 'platform_code': nan, 'loc': {'type': 'Point', 'coordinates': [4.373805, 51.999676]}}\n{'_id': ObjectId('5b0459e63e6aaab6f51ec8dd'), 'stop_id': '1216967', 'stop_code': nan, 'stop_name': 'Delft, TU - Aula', 'stop_lat': 52.001579, 'stop_lon': 4.372437000000001, 'location_type': 0, 'parent_station': nan, 'stop_timezone': nan, 'wheelchair_boarding': 0.0, 'platform_code': nan, 'loc': {'type': 'Point', 'coordinates': [4.372437000000001, 52.001579]}}\n{'_id': ObjectId('5b0459e63e6aaab6f51ec085'), 'stop_id': '1099926', 'stop_code': nan, 'stop_name': 'Delft, TU Aula', 'stop_lat': 52.001587, 'stop_lon': 4.372335, 'location_type': 0, 'parent_station': nan, 'stop_timezone': nan, 'wheelchair_boarding': 0.0, 'platform_code': nan, 'loc': {'type': 'Point', 'coordinates': [4.372335, 52.001587]}}\n{'_id': ObjectId('5b0459e73e6aaab6f51f7ccb'), 'stop_id': 'stoparea:216295', 'stop_code': nan, 'stop_name': 'TU-Delft (NS-bus)', 'stop_lat': 52.001945, 'stop_lon': 4.372372599999999, 'location_type': 1, 'parent_station': nan, 'stop_timezone': 'Europe/Amsterdam', 'wheelchair_boarding': 0.0, 'platform_code': nan, 'loc': {'type': 'Point', 'coordinates': [4.372372599999999, 52.001945]}}\n{'_id': ObjectId('5b0459e73e6aaab6f51f6455'), 'stop_id': '743869', 'stop_code': nan, 'stop_name': 'TU-Delft (NS-bus)', 'stop_lat': 52.001945, 'stop_lon': 4.372372599999999, 'location_type': 0, 'parent_station': 'stoparea:216295', 'stop_timezone': nan, 'wheelchair_boarding': nan, 'platform_code': nan, 'loc': {'type': 'Point', 'coordinates': [4.372372599999999, 52.001945]}}\n{'_id': ObjectId('5b0459e63e6aaab6f51eca87'), 'stop_id': '1217452', 'stop_code': nan, 'stop_name': 'Delft, TU - Aula', 'stop_lat': 52.002016999999995, 'stop_lon': 4.372179, 'location_type': 0, 'parent_station': nan, 'stop_timezone': nan, 'wheelchair_boarding': 1.0, 'platform_code': nan, 'loc': {'type': 'Point', 'coordinates': [4.372179, 52.002016999999995]}}\n{'_id': ObjectId('5b0459e63e6aaab6f51ec088'), 'stop_id': '1099929', 'stop_code': nan, 'stop_name': 'Delft, TU Aula', 'stop_lat': 52.002134000000005, 'stop_lon': 4.372162, 'location_type': 0, 'parent_station': nan, 'stop_timezone': nan, 'wheelchair_boarding': 1.0, 'platform_code': nan, 'loc': {'type': 'Point', 'coordinates': [4.372162, 52.002134000000005]}}\n{'_id': ObjectId('5b0459e63e6aaab6f51ec8b6'), 'stop_id': '1216926', 'stop_code': nan, 'stop_name': 'Delft, TU - Aula', 'stop_lat': 52.002352, 'stop_lon': 4.372492, 'location_type': 0, 'parent_station': nan, 'stop_timezone': nan, 'wheelchair_boarding': 0.0, 'platform_code': nan, 'loc': {'type': 'Point', 'coordinates': [4.372492, 52.002352]}}\n{'_id': ObjectId('5b0459e63e6aaab6f51eca62'), 'stop_id': '1217411', 'stop_code': nan, 'stop_name': 'Delft, TU - Aula', 'stop_lat': 52.002388, 'stop_lon': 4.372404, 'location_type': 0, 'parent_station': nan, 'stop_timezone': nan, 'wheelchair_boarding': 1.0, 'platform_code': nan, 'loc': {'type': 'Point', 'coordinates': [4.372404, 52.002388]}}\n{'_id': ObjectId('5b0459e63e6aaab6f51ec08c'), 'stop_id': '1099933', 'stop_code': nan, 'stop_name': 'Delft, TU Sport & Cultuur', 'stop_lat': 51.996461, 'stop_lon': 4.37628, 'location_type': 0, 'parent_station': nan, 'stop_timezone': nan, 'wheelchair_boarding': 1.0, 'platform_code': nan, 'loc': {'type': 'Point', 'coordinates': [4.37628, 51.996461]}}\n{'_id': ObjectId('5b0459e63e6aaab6f51ed207'), 'stop_id': '1238925', 'stop_code': nan, 'stop_name': 'Delft, TU - Sport en Cultuur', 'stop_lat': 51.996435, 'stop_lon': 4.37631, 'location_type': 0, 'parent_station': nan, 'stop_timezone': nan, 'wheelchair_boarding': 1.0, 'platform_code': nan, 'loc': {'type': 'Point', 'coordinates': [4.37631, 51.996435]}}\n{'_id': ObjectId('5b0459e63e6aaab6f51ed1b4'), 'stop_id': '1238807', 'stop_code': nan, 'stop_name': 'Delft, TU - Sport en Cultuur', 'stop_lat': 51.996007, 'stop_lon': 4.376771, 'location_type': 0, 'parent_station': nan, 'stop_timezone': nan, 'wheelchair_boarding': 1.0, 'platform_code': nan, 'loc': {'type': 'Point', 'coordinates': [4.376771, 51.996007]}}\n{'_id': ObjectId('5b0459e63e6aaab6f51ec089'), 'stop_id': '1099930', 'stop_code': nan, 'stop_name': 'Delft, TU Sport & Cultuur', 'stop_lat': 51.995979999999996, 'stop_lon': 4.376684, 'location_type': 0, 'parent_station': nan, 'stop_timezone': nan, 'wheelchair_boarding': 1.0, 'platform_code': nan, 'loc': {'type': 'Point', 'coordinates': [4.376684, 51.995979999999996]}}\n{'_id': ObjectId('5b0459e63e6aaab6f51ecad6'), 'stop_id': '1217537', 'stop_code': nan, 'stop_name': 'Delft, Schoemakerstraat', 'stop_lat': 52.002798, 'stop_lon': 4.37723, 'location_type': 0, 'parent_station': nan, 'stop_timezone': nan, 'wheelchair_boarding': 1.0, 'platform_code': nan, 'loc': {'type': 'Point', 'coordinates': [4.37723, 52.002798]}}\n{'_id': ObjectId('5b0459e63e6aaab6f51ec8fd'), 'stop_id': '1217000', 'stop_code': nan, 'stop_name': 'Delft, Schoemakerstraat', 'stop_lat': 52.002833, 'stop_lon': 4.3772, 'location_type': 0, 'parent_station': nan, 'stop_timezone': nan, 'wheelchair_boarding': 1.0, 'platform_code': nan, 'loc': {'type': 'Point', 'coordinates': [4.3772, 52.002833]}}\n{'_id': ObjectId('5b0459e63e6aaab6f51ec978'), 'stop_id': '1217141', 'stop_code': nan, 'stop_name': 'Delft, Prof. Krausstraat', 'stop_lat': 52.003595000000004, 'stop_lon': 4.380008, 'location_type': 0, 'parent_station': nan, 'stop_timezone': nan, 'wheelchair_boarding': 1.0, 'platform_code': nan, 'loc': {'type': 'Point', 'coordinates': [4.380008, 52.003595000000004]}}\n{'_id': ObjectId('5b0459e63e6aaab6f51ecb4f'), 'stop_id': '1217672', 'stop_code': nan, 'stop_name': 'Delft, Prof. Krausstraat', 'stop_lat': 52.003671000000004, 'stop_lon': 4.38056, 'location_type': 0, 'parent_station': nan, 'stop_timezone': nan, 'wheelchair_boarding': 1.0, 'platform_code': nan, 'loc': {'type': 'Point', 'coordinates': [4.38056, 52.003671000000004]}}\n"
     ]
    }
   ],
   "source": [
    "# https://docs.mongodb.com/manual/reference/operator/query/near/#op._S_near\n",
    "for stop in db.stops.find({\n",
    "    \"loc\": {\n",
    "        \"$near\": {\n",
    "            \"$geometry\": { \n",
    "                \"type\": \"Point\",\n",
    "                \"coordinates\": [4.3739962577819815, 51.99938799542368]\n",
    "            },\n",
    "            \"$maxDistance\": 5000\n",
    "        }        \n",
    "    }\n",
    "}).limit(20):\n",
    "    print(stop)"
   ]
  },
  {
   "cell_type": "code",
   "execution_count": null,
   "metadata": {},
   "outputs": [],
   "source": []
  }
 ],
 "metadata": {
  "kernelspec": {
   "display_name": "Python 2",
   "language": "python",
   "name": "python2"
  },
  "language_info": {
   "codemirror_mode": {
    "name": "ipython",
    "version": 2
   },
   "file_extension": ".py",
   "mimetype": "text/x-python",
   "name": "python",
   "nbconvert_exporter": "python",
   "pygments_lexer": "ipython2",
   "version": "2.7.6"
  }
 },
 "nbformat": 4,
 "nbformat_minor": 0
}
